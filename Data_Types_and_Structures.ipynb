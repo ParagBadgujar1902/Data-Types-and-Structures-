{
  "nbformat": 4,
  "nbformat_minor": 0,
  "metadata": {
    "colab": {
      "provenance": []
    },
    "kernelspec": {
      "name": "python3",
      "display_name": "Python 3"
    },
    "language_info": {
      "name": "python"
    }
  },
  "cells": [
    {
      "cell_type": "markdown",
      "source": [
        "## Assignment: Data Types and Structures\n",
        "\n",
        "1. **what is data structure in python and why is it important?**   \n",
        "    - Data structures in Python are specialized formats for organizing, processing, and storing data efficiently.  \n",
        "    - They are important because they enable efficient data management, retrieval, and manipulation, which is crucial for optimizing performance in software applications.  \n",
        "\n",
        "2. **Explain the difference between mutable and immutable data types with examples.**\n",
        "    - Mutable data types can be changed after they are created, while immutable data types cannot be changed once created.\n",
        "    - Examples of mutable data types include lists and dictionaries:      \n",
        "        - List example:\n",
        "            ``` python\n",
        "            my_list = [1, 2, 3]; my_list[0] = 10  # my_list is now [10, 2, 3]  \n",
        "            ```\n",
        "        - Dictionary example:\n",
        "            ```python\n",
        "            my_dict = {'a': 1, 'b': 2}; my_dict['a'] = 10  # my_dict is now {'a': 10, 'b': 2}\n",
        "            ```\n",
        "    - Examples of immutable data types include strings and tuples:  \n",
        "    \n",
        "        - String example:\n",
        "            ``` python\n",
        "            my_string = \"hello\"; my_string[0] = \"H\"  # This will raise an error  \n",
        "            ```\n",
        "\n",
        "        - Tuple example:\n",
        "            ```python\n",
        "            my_tuple = (1, 2, 3); my_tuple[0] = 10  # This will also raise an erro\n",
        "            ```\n",
        "\n",
        "3.  What are the main differences between lists and tuples in Python3?   \n",
        "     1. Mutability:\n",
        "        - Lists are mutable, meaning their elements can be changed, added, or removed after creation.\n",
        "        - Tuples are immutable, meaning once they are created, their elements cannot be changed, added, or removed.\n",
        "     2. Syntax:\n",
        "        - Lists are defined using square brackets: `my_list = [1, 2, 3]`\n",
        "        - Tuples are defined using parentheses: `my_tuple = (1, 2, 3)`\n",
        "     3. Performance:\n",
        "        - Tuples are generally faster than lists for certain operations due to their immutability.\n",
        "     4. Use Cases:\n",
        "        - Lists are typically used when a collection of items needs to be modified.\n",
        "        - Tuples are used when a collection of items should remain constant and not change.  \n",
        "         \n",
        "         Example:\n",
        "           ``` python\n",
        "            my_list = [1, 2, 3]\n",
        "            my_tuple = (1, 2, 3)    \n",
        "           ```\n",
        "\n",
        "4. **Describe how dictionaries store data**  \n",
        "    - Dictionaries store data in key-value pairs.  \n",
        "    - Each key is unique and used to access its corresponding value.  \n",
        "    - Internally, Python dictionaries use a hash table for fast lookup and retrieval.  \n",
        "\n",
        "5. **Why might you use a set instead of a list in Python?**  \n",
        "    - Sets automatically remove duplicate values.  \n",
        "    - They provide faster membership testing than lists.  \n",
        "    - Useful when you need to store unique items without caring about their order.  \n",
        "\n",
        "6. **What is a string in Python, and how is it different from a list?**  \n",
        "    - A string is a sequence of characters enclosed in quotes.  \n",
        "    - Strings are immutable, meaning they cannot be changed after creation.  \n",
        "    - Lists are mutable and can contain elements of different data types.  \n",
        "\n",
        "7. **How do tuples ensure data integrity in Python?**  \n",
        "    - Tuples are immutable, meaning their elements cannot be changed after creation.  \n",
        "    - This immutability prevents accidental modification of data, ensuring data integrity.  \n",
        "\n",
        "8. **What is a hash table, and how does it relate to dictionaries in Python?**  \n",
        "    - A hash table is a data structure that stores data using key-value pairs.  \n",
        "    - It uses a hash function to quickly locate keys.  \n",
        "    - Python dictionaries are implemented using hash tables.  \n",
        "\n",
        "9. **Can lists contain different data types in Python?**  \n",
        "    - Yes, lists can store elements of different data types such as integers, strings, and even other lists.  \n",
        "\n",
        "10. **Explain why strings are immutable in Python**  \n",
        "    - Strings are immutable to improve memory efficiency and security.  \n",
        "    - This allows Python to reuse string objects and optimize performance.  \n",
        "\n",
        "11. **What advantages do dictionaries offer over lists for certain tasks?**  \n",
        "    - Dictionaries provide fast data access using keys instead of numeric indexes.  \n",
        "    - They are useful for storing data that is logically connected, like user details.  \n",
        "\n",
        "12. **Describe a scenario where using a tuple would be preferable over a list**  \n",
        "    - Tuples are preferable when data should not change, such as storing coordinates or configuration constants.  \n",
        "\n",
        "13. **How do sets handle duplicate values in Python?**  \n",
        "    - Sets automatically eliminate duplicate entries.  \n",
        "    - If you try to add an existing value, it is ignored.  \n",
        "\n",
        "14. **How does the “in” keyword work differently for lists and dictionaries?**  \n",
        "    - In lists, `in` checks whether a value exists in the list elements.  \n",
        "    - In dictionaries, `in` checks for the presence of a key, not a value.  \n",
        "\n",
        "15. **Can you modify the elements of a tuple? Explain why or why not.**  \n",
        "    - No, tuples are immutable.  \n",
        "    - Once created, their elements cannot be changed, added, or removed.  \n",
        "\n",
        "16. **What is a nested dictionary, and give an example of its use case.**  \n",
        "    - A nested dictionary is a dictionary that contains another dictionary as its value.  \n",
        "    - Example:  \n",
        "      ```python\n",
        "      student = {\n",
        "          \"name\": \"Parag\",\n",
        "          \"marks\": {\"math\": 90, \"science\": 85}\n",
        "      }\n",
        "      ```  \n",
        "\n",
        "17. **Describe the time complexity of accessing elements in a dictionary.**  \n",
        "    - The average time complexity is **O(1)** due to hash table implementation.  \n",
        "    - In the worst case (hash collisions), it can be **O(n)**.  \n",
        "\n",
        "18. **In what situations are lists preferred over dictionaries?**  \n",
        "    - When you need ordered data or simple sequences.  \n",
        "    - When key-value mapping is not required.  \n",
        "\n",
        "19. **Why are dictionaries considered unordered, and how does that affect data retrieval?**  \n",
        "    - Before Python 3.7, dictionaries did not maintain insertion order.  \n",
        "    - Even though Python 3.7+ maintains insertion order, the concept of “unordered” still applies because key positions are based on hash values.  \n",
        "\n",
        "20. **Explain the difference between a list and a dictionary in terms of data retrieval.**  \n",
        "    - Lists use integer indexes to access elements (e.g., `list[0]`).  \n",
        "    - Dictionaries use unique keys to access values (e.g., `dict[\"name\"]`)."
      ],
      "metadata": {
        "id": "2TLE9CVebZv4"
      }
    },
    {
      "cell_type": "code",
      "source": [
        "# 1. Write a code to create a string with your name and print it\n",
        "name = \"Parag\"\n",
        "print(name)"
      ],
      "metadata": {
        "colab": {
          "base_uri": "https://localhost:8080/"
        },
        "id": "CB6hauX1blKU",
        "outputId": "e27c2a8d-355d-42ad-9431-eaf8f178c79a"
      },
      "execution_count": 18,
      "outputs": [
        {
          "output_type": "stream",
          "name": "stdout",
          "text": [
            "Parag\n"
          ]
        }
      ]
    },
    {
      "cell_type": "code",
      "source": [
        "# 2. Write a code to find the length of the string \"Hello World\"\n",
        "text = \"Hello World\"\n",
        "print(len(text))"
      ],
      "metadata": {
        "colab": {
          "base_uri": "https://localhost:8080/"
        },
        "id": "A8WCNgUrcoQJ",
        "outputId": "2e7bf76e-02fe-4556-f2b6-f27d878ed84e"
      },
      "execution_count": 19,
      "outputs": [
        {
          "output_type": "stream",
          "name": "stdout",
          "text": [
            "11\n"
          ]
        }
      ]
    },
    {
      "cell_type": "code",
      "source": [
        "# 3. Write a code to slice the first 3 characters from the string \"Python Programming\"\n",
        "string = \"Python Programming\"\n",
        "print(string[:3])"
      ],
      "metadata": {
        "colab": {
          "base_uri": "https://localhost:8080/"
        },
        "id": "wP9nCRqQctt9",
        "outputId": "648f3d1f-43d5-4962-eaac-9e6720da03df"
      },
      "execution_count": 20,
      "outputs": [
        {
          "output_type": "stream",
          "name": "stdout",
          "text": [
            "Pyt\n"
          ]
        }
      ]
    },
    {
      "cell_type": "code",
      "source": [
        "# 4. Write a code to convert the string \"hello\" to uppercase\n",
        "word = \"hello\"\n",
        "print(word.upper())"
      ],
      "metadata": {
        "colab": {
          "base_uri": "https://localhost:8080/"
        },
        "id": "MgmkKUnjcxaQ",
        "outputId": "9c2849ac-a8c4-4037-fed4-9ebe48ace4ac"
      },
      "execution_count": 21,
      "outputs": [
        {
          "output_type": "stream",
          "name": "stdout",
          "text": [
            "HELLO\n"
          ]
        }
      ]
    },
    {
      "cell_type": "code",
      "source": [
        "# 5. Write a code to replace the word \"apple\" with \"orange\" in the string \"I like apple\"\n",
        "sentence = \"I like apple\"\n",
        "print(sentence.replace(\"apple\", \"orange\"))\n",
        "\n"
      ],
      "metadata": {
        "colab": {
          "base_uri": "https://localhost:8080/"
        },
        "id": "CTx4ZWZCc2Ic",
        "outputId": "3fc4a328-7f53-4b81-91e3-161b0f7b6b86"
      },
      "execution_count": 22,
      "outputs": [
        {
          "output_type": "stream",
          "name": "stdout",
          "text": [
            "I like orange\n"
          ]
        }
      ]
    },
    {
      "cell_type": "code",
      "source": [
        "# 6. Write a code to create a list with numbers 1 to 5 and print it\n",
        "numbers = [1, 2, 3, 4, 5]\n",
        "print(numbers)"
      ],
      "metadata": {
        "colab": {
          "base_uri": "https://localhost:8080/"
        },
        "id": "BVuNX8sqbuR6",
        "outputId": "bb785996-22a0-48a0-9181-0a4254f9734d"
      },
      "execution_count": 23,
      "outputs": [
        {
          "output_type": "stream",
          "name": "stdout",
          "text": [
            "[1, 2, 3, 4, 5]\n"
          ]
        }
      ]
    },
    {
      "cell_type": "code",
      "source": [
        "# 7. Write a code to append the number 10 to the list [1, 2, 3, 4]\n",
        "my_list = [1, 2, 3, 4]\n",
        "my_list.append(10)\n",
        "print(my_list)"
      ],
      "metadata": {
        "colab": {
          "base_uri": "https://localhost:8080/"
        },
        "id": "OGAJw0gHbuOc",
        "outputId": "27b9c081-cad7-4f43-c2b5-6e9b29044bc4"
      },
      "execution_count": 24,
      "outputs": [
        {
          "output_type": "stream",
          "name": "stdout",
          "text": [
            "[1, 2, 3, 4, 10]\n"
          ]
        }
      ]
    },
    {
      "cell_type": "code",
      "source": [
        "# 8. Write a code to remove the number 3 from the list [1, 2, 3, 4, 5]\n",
        "list_remove = [1, 2, 3, 4, 5]\n",
        "list_remove.remove(3)\n",
        "print(list_remove)"
      ],
      "metadata": {
        "colab": {
          "base_uri": "https://localhost:8080/"
        },
        "id": "k3XOWuSpbuLk",
        "outputId": "6e8dc25d-c721-4f71-d320-9a52513be84d"
      },
      "execution_count": 25,
      "outputs": [
        {
          "output_type": "stream",
          "name": "stdout",
          "text": [
            "[1, 2, 4, 5]\n"
          ]
        }
      ]
    },
    {
      "cell_type": "code",
      "source": [
        "# 9. Write a code to access the second element in the list ['a', 'b', 'c', 'd']\n",
        "letters = ['a', 'b', 'c', 'd']\n",
        "print(letters[1])"
      ],
      "metadata": {
        "colab": {
          "base_uri": "https://localhost:8080/"
        },
        "id": "RKl_eA7pdF-D",
        "outputId": "b18b523c-6f44-477f-9b10-70abf9e11919"
      },
      "execution_count": 26,
      "outputs": [
        {
          "output_type": "stream",
          "name": "stdout",
          "text": [
            "b\n"
          ]
        }
      ]
    },
    {
      "cell_type": "code",
      "source": [
        "# 10. Write a code to reverse the list [10, 20, 30, 40, 50]\n",
        "nums = [10, 20, 30, 40, 50]\n",
        "nums.reverse()\n",
        "print(nums)"
      ],
      "metadata": {
        "colab": {
          "base_uri": "https://localhost:8080/"
        },
        "id": "btZDh_GJdIB1",
        "outputId": "bf8135ed-7a8a-4b58-dada-855bfede4044"
      },
      "execution_count": 27,
      "outputs": [
        {
          "output_type": "stream",
          "name": "stdout",
          "text": [
            "[50, 40, 30, 20, 10]\n"
          ]
        }
      ]
    },
    {
      "cell_type": "code",
      "source": [
        "# 11. Write a code to create a tuple with the elements 100, 200, 300 and print it\n",
        "numbers_tuple = (100, 200, 300)\n",
        "print(numbers_tuple)\n"
      ],
      "metadata": {
        "colab": {
          "base_uri": "https://localhost:8080/"
        },
        "id": "-8h9o5GMdUTr",
        "outputId": "7a124ca1-ffce-493e-d0f1-2c1d4aefcd1d"
      },
      "execution_count": 28,
      "outputs": [
        {
          "output_type": "stream",
          "name": "stdout",
          "text": [
            "(100, 200, 300)\n"
          ]
        }
      ]
    },
    {
      "cell_type": "code",
      "source": [
        "# 12. Write a code to access the second-to-last element of the tuple ('red', 'green', 'blue', 'yellow')\n",
        "colors = ('red', 'green', 'blue', 'yellow')\n",
        "print(colors[-2])"
      ],
      "metadata": {
        "colab": {
          "base_uri": "https://localhost:8080/"
        },
        "id": "Dcv7_YmOdW9T",
        "outputId": "24761311-0270-49c7-96d7-9eec2c988a73"
      },
      "execution_count": 29,
      "outputs": [
        {
          "output_type": "stream",
          "name": "stdout",
          "text": [
            "blue\n"
          ]
        }
      ]
    },
    {
      "cell_type": "code",
      "source": [
        "# 13. Write a code to find the minimum number in the tuple (10, 20, 5, 15)\n",
        "nums = (10, 20, 5, 15)\n",
        "print(min(nums))\n"
      ],
      "metadata": {
        "colab": {
          "base_uri": "https://localhost:8080/"
        },
        "id": "I6xN3wpWdZPl",
        "outputId": "5f7b352e-c51d-4365-87cb-1823a9df05bb"
      },
      "execution_count": 30,
      "outputs": [
        {
          "output_type": "stream",
          "name": "stdout",
          "text": [
            "5\n"
          ]
        }
      ]
    },
    {
      "cell_type": "code",
      "source": [
        "# 14. Write a code to find the index of the element \"cat\" in the tuple ('dog', 'cat', 'rabbit')\n",
        "animals = ('dog', 'cat', 'rabbit')\n",
        "print(animals.index(\"cat\"))"
      ],
      "metadata": {
        "colab": {
          "base_uri": "https://localhost:8080/"
        },
        "id": "zxcc_buJdbOX",
        "outputId": "d1e56ab7-60f6-428b-af2f-bc91ddf6c75d"
      },
      "execution_count": 31,
      "outputs": [
        {
          "output_type": "stream",
          "name": "stdout",
          "text": [
            "1\n"
          ]
        }
      ]
    },
    {
      "cell_type": "code",
      "source": [
        "# 15. Write a code to create a tuple containing three different fruits and check if \"kiwi\" is in it\n",
        "fruits = (\"apple\", \"banana\", \"mango\")\n",
        "print(\"kiwi\" in fruits)"
      ],
      "metadata": {
        "colab": {
          "base_uri": "https://localhost:8080/"
        },
        "id": "7aMmxTe4dc_3",
        "outputId": "cecc5eee-bb94-4258-d826-622f1269ab73"
      },
      "execution_count": 32,
      "outputs": [
        {
          "output_type": "stream",
          "name": "stdout",
          "text": [
            "False\n"
          ]
        }
      ]
    },
    {
      "cell_type": "code",
      "source": [
        "# 16. Write a code to create a set with the elements 'a', 'b', 'c' and print it\n",
        "letters_set = {'a', 'b', 'c'}\n",
        "print(letters_set)\n"
      ],
      "metadata": {
        "colab": {
          "base_uri": "https://localhost:8080/"
        },
        "id": "gM5NshPFdfFH",
        "outputId": "4da24d71-a0b4-410d-8527-4d5435f2b859"
      },
      "execution_count": 33,
      "outputs": [
        {
          "output_type": "stream",
          "name": "stdout",
          "text": [
            "{'b', 'a', 'c'}\n"
          ]
        }
      ]
    },
    {
      "cell_type": "code",
      "source": [
        "# 17. Write a code to clear all elements from the set {1, 2, 3, 4, 5}\n",
        "numbers_set = {1, 2, 3, 4, 5}\n",
        "numbers_set.clear()\n",
        "print(numbers_set)"
      ],
      "metadata": {
        "colab": {
          "base_uri": "https://localhost:8080/"
        },
        "id": "A1qs8h0Pdjd_",
        "outputId": "fc23a1ca-770f-4027-b6df-cc9390538c66"
      },
      "execution_count": 34,
      "outputs": [
        {
          "output_type": "stream",
          "name": "stdout",
          "text": [
            "set()\n"
          ]
        }
      ]
    },
    {
      "cell_type": "code",
      "source": [
        "# 18. Write a code to remove the element 4 from the set {1, 2, 3, 4}\n",
        "set_remove = {1, 2, 3, 4}\n",
        "set_remove.remove(4)\n",
        "print(set_remove)"
      ],
      "metadata": {
        "colab": {
          "base_uri": "https://localhost:8080/"
        },
        "id": "fUXQyDvrdlUS",
        "outputId": "0fca804c-59e6-41fc-96d2-181bcf9fbf40"
      },
      "execution_count": 35,
      "outputs": [
        {
          "output_type": "stream",
          "name": "stdout",
          "text": [
            "{1, 2, 3}\n"
          ]
        }
      ]
    },
    {
      "cell_type": "code",
      "source": [
        "# 19. Write a code to find the union of two sets {1, 2, 3} and {3, 4, 5}\n",
        "set1 = {1, 2, 3}\n",
        "set2 = {3, 4, 5}\n",
        "print(set1.union(set2))"
      ],
      "metadata": {
        "colab": {
          "base_uri": "https://localhost:8080/"
        },
        "id": "IZs2H0JidnNt",
        "outputId": "f2b94ae6-8445-4cb8-d81b-11a41ea9f5bf"
      },
      "execution_count": 36,
      "outputs": [
        {
          "output_type": "stream",
          "name": "stdout",
          "text": [
            "{1, 2, 3, 4, 5}\n"
          ]
        }
      ]
    },
    {
      "cell_type": "code",
      "source": [
        "# 20. Write a code to find the intersection of two sets {1, 2, 3} and {2, 3, 4}\n",
        "setA = {1, 2, 3}\n",
        "setB = {2, 3, 4}\n",
        "print(setA.intersection(setB))"
      ],
      "metadata": {
        "colab": {
          "base_uri": "https://localhost:8080/"
        },
        "id": "xa1ptMKQdo4k",
        "outputId": "44ac635a-d08e-4379-87fc-b4a0f8e53fe1"
      },
      "execution_count": 37,
      "outputs": [
        {
          "output_type": "stream",
          "name": "stdout",
          "text": [
            "{2, 3}\n"
          ]
        }
      ]
    },
    {
      "cell_type": "code",
      "source": [
        "# 21. Write a code to create a dictionary with the keys \"name\", \"age\", and \"city\", and print it\n",
        "person = {\"name\": \"John\", \"age\": 25, \"city\": \"New York\"}\n",
        "print(person)"
      ],
      "metadata": {
        "colab": {
          "base_uri": "https://localhost:8080/"
        },
        "id": "wrNMgLTldqq-",
        "outputId": "fd002365-f0f3-4780-f53a-d68fc91aa704"
      },
      "execution_count": 38,
      "outputs": [
        {
          "output_type": "stream",
          "name": "stdout",
          "text": [
            "{'name': 'John', 'age': 25, 'city': 'New York'}\n"
          ]
        }
      ]
    },
    {
      "cell_type": "code",
      "source": [
        "# 22. Write a code to add a new key-value pair \"country\": \"USA\" to the dictionary {'name': 'John', 'age': 25}\n",
        "info = {'name': 'John', 'age': 25}\n",
        "info[\"country\"] = \"USA\"\n",
        "print(info)"
      ],
      "metadata": {
        "colab": {
          "base_uri": "https://localhost:8080/"
        },
        "id": "L7BybV1adsfq",
        "outputId": "5b1fe280-8a92-4c79-f647-689067b41971"
      },
      "execution_count": 39,
      "outputs": [
        {
          "output_type": "stream",
          "name": "stdout",
          "text": [
            "{'name': 'John', 'age': 25, 'country': 'USA'}\n"
          ]
        }
      ]
    },
    {
      "cell_type": "code",
      "source": [
        "# 23. Write a code to access the value associated with the key \"name\" in the dictionary {'name': 'Alice', 'age': 30}\n",
        "data = {'name': 'Alice', 'age': 30}\n",
        "print(data[\"name\"])"
      ],
      "metadata": {
        "colab": {
          "base_uri": "https://localhost:8080/"
        },
        "id": "7gtCQU_7dvMI",
        "outputId": "4fc5d661-d8a0-4944-88c9-14611ce20eba"
      },
      "execution_count": 40,
      "outputs": [
        {
          "output_type": "stream",
          "name": "stdout",
          "text": [
            "Alice\n"
          ]
        }
      ]
    },
    {
      "cell_type": "code",
      "source": [
        "# 24. Write a code to remove the key \"age\" from the dictionary {'name': 'Bob', 'age': 22, 'city': 'New York'}\n",
        "details = {'name': 'Bob', 'age': 22, 'city': 'New York'}\n",
        "details.pop(\"age\")\n",
        "print(details)"
      ],
      "metadata": {
        "colab": {
          "base_uri": "https://localhost:8080/"
        },
        "id": "ULXrsj9kdwn1",
        "outputId": "65c437fd-05fe-4ed5-81b9-8391c114649f"
      },
      "execution_count": 41,
      "outputs": [
        {
          "output_type": "stream",
          "name": "stdout",
          "text": [
            "{'name': 'Bob', 'city': 'New York'}\n"
          ]
        }
      ]
    },
    {
      "cell_type": "code",
      "source": [
        "# 25. Write a code to check if the key \"city\" exists in the dictionary {'name': 'Alice', 'city': 'Paris'}\n",
        "dictionary = {'name': 'Alice', 'city': 'Paris'}\n",
        "print(\"city\" in dictionary)"
      ],
      "metadata": {
        "colab": {
          "base_uri": "https://localhost:8080/"
        },
        "id": "0pXYnaV9dyfn",
        "outputId": "6fee5a1b-796e-4e7a-8dcb-21539f604313"
      },
      "execution_count": 42,
      "outputs": [
        {
          "output_type": "stream",
          "name": "stdout",
          "text": [
            "True\n"
          ]
        }
      ]
    },
    {
      "cell_type": "code",
      "source": [
        "# 26. Write a code to create a list, a tuple, and a dictionary, and print them all\n",
        "my_list = [10, 20, 30, 40]\n",
        "my_tuple = (1, 2, 3, 4)\n",
        "my_dict = {\"name\": \"Parag\", \"age\": 23, \"city\": \"Pune\"}\n",
        "\n",
        "print(\"List:\", my_list)\n",
        "print(\"Tuple:\", my_tuple)\n",
        "print(\"Dictionary:\", my_dict)"
      ],
      "metadata": {
        "colab": {
          "base_uri": "https://localhost:8080/"
        },
        "id": "NkFd60LZd4R8",
        "outputId": "fc78ffc5-d9d5-4ebb-cbe4-4cd2b5508c5b"
      },
      "execution_count": 43,
      "outputs": [
        {
          "output_type": "stream",
          "name": "stdout",
          "text": [
            "List: [10, 20, 30, 40]\n",
            "Tuple: (1, 2, 3, 4)\n",
            "Dictionary: {'name': 'Parag', 'age': 23, 'city': 'Pune'}\n"
          ]
        }
      ]
    },
    {
      "cell_type": "code",
      "source": [
        "# 27. Write a code to create a list of 5 random numbers between 1 and 100, sort it in ascending order, and print the result\n",
        "import random\n",
        "random_numbers = [random.randint(1, 100) for _ in range(5)]\n",
        "random_numbers.sort()\n",
        "print(\"Sorted Random Numbers:\", random_numbers)"
      ],
      "metadata": {
        "colab": {
          "base_uri": "https://localhost:8080/"
        },
        "id": "cQQS1hDyd6VH",
        "outputId": "fc64baf3-7cd6-4edb-dd2e-bc08749e1cc9"
      },
      "execution_count": 44,
      "outputs": [
        {
          "output_type": "stream",
          "name": "stdout",
          "text": [
            "Sorted Random Numbers: [6, 14, 28, 52, 98]\n"
          ]
        }
      ]
    },
    {
      "cell_type": "code",
      "source": [
        "# 28. Write a code to create a list with strings and print the element at the third index\n",
        "words = [\"apple\", \"banana\", \"cherry\", \"date\", \"elderberry\"]\n",
        "print(\"Element at third index:\", words[3])"
      ],
      "metadata": {
        "colab": {
          "base_uri": "https://localhost:8080/"
        },
        "id": "kGYjjG1Td9xF",
        "outputId": "f2138a31-57ca-47df-e45c-07a8e8d53e47"
      },
      "execution_count": 45,
      "outputs": [
        {
          "output_type": "stream",
          "name": "stdout",
          "text": [
            "Element at third index: date\n"
          ]
        }
      ]
    },
    {
      "cell_type": "code",
      "source": [
        "# 29. Write a code to combine two dictionaries into one and print the result\n",
        "dict1 = {\"a\": 1, \"b\": 2}\n",
        "dict2 = {\"c\": 3, \"d\": 4}\n",
        "combined_dict = {**dict1, **dict2}\n",
        "print(\"Combined Dictionary:\", combined_dict)"
      ],
      "metadata": {
        "colab": {
          "base_uri": "https://localhost:8080/"
        },
        "id": "SauUe3N0eBE_",
        "outputId": "b1ce8ec5-3fc6-4921-c84c-4a93e53c8a18"
      },
      "execution_count": 46,
      "outputs": [
        {
          "output_type": "stream",
          "name": "stdout",
          "text": [
            "Combined Dictionary: {'a': 1, 'b': 2, 'c': 3, 'd': 4}\n"
          ]
        }
      ]
    },
    {
      "cell_type": "code",
      "source": [
        "# 30. Write a code to convert a list of strings into a set\n",
        "string_list = [\"apple\", \"banana\", \"apple\", \"cherry\"]\n",
        "string_set = set(string_list)\n",
        "print(\"Set from list:\", string_set)"
      ],
      "metadata": {
        "colab": {
          "base_uri": "https://localhost:8080/"
        },
        "id": "vc3gbsXMeCzK",
        "outputId": "0b94c57c-a68a-4e29-dada-ad2f1fadc98e"
      },
      "execution_count": 47,
      "outputs": [
        {
          "output_type": "stream",
          "name": "stdout",
          "text": [
            "Set from list: {'cherry', 'banana', 'apple'}\n"
          ]
        }
      ]
    }
  ]
}